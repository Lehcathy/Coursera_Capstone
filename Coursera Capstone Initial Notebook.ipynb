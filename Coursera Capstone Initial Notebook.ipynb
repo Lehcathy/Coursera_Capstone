{
 "cells": [
  {
   "cell_type": "markdown",
   "metadata": {
    "collapsed": true
   },
   "source": [
    "# <center> Coursera Capstone Report <center>\n",
    "***\n",
    "### <center> Optimal Location for Vietnamese Restaurant in New York City <center> <br> Cathy Le"
   ]
  },
  {
   "cell_type": "markdown",
   "metadata": {},
   "source": [
    "## Introduction/Business Problem"
   ]
  },
  {
   "cell_type": "markdown",
   "metadata": {},
   "source": [
    "##### *Clearly define a problem or an idea of your choice, where you would need to leverage the Foursquare location data to solve or execute. Remember that data science problems always target an audience and are meant to help a group of stakeholders solve a problem, so make sure that you explicitly describe your audience and why they would care about your problem.*"
   ]
  },
  {
   "cell_type": "markdown",
   "metadata": {},
   "source": [
    "Being the most populous city in the United States, New York is home to a plethora of diverse cultures. Over time the city has seen the growth of communities with defined geographic boundaries, many of which are tied to ethnic groups as seen in \"Little Italy\" or \"Chinatown\". These neighbourhoods live side by side to one another and thus see a high degree of inter-mixing and shared traditions.\n",
    "\n",
    "Businesses, espcially local ones, are met with great potential and opportunity in New York due to the city's large, yet close-knit communities. The success of the business itself will depend largely on its location as there needs to be a balance of competition and demand from the surrounding area.  \n",
    "\n",
    "The business problem that this report will be catering to is a group of stakeholders interested in opening a Vietnamese restaurant in New York City. We will aim to find the optimal location and to do so we must consider areas that have low competition yet high demand. \n",
    "\n",
    "Competition comes from restaurants which also serve Vietnamese or similar cuisines. Demand can be gauged by the density of restaurants in the area, specifically ones that serve opposing cuisines, as we will want a location with high foot traffic to draw people into our business. Competition with other Vietnamese restaurants can be helpful to some extent in bringing in customers to the area, but for this project we will eliminate the risk by avoiding other Vietnamese restaurants."
   ]
  },
  {
   "cell_type": "markdown",
   "metadata": {},
   "source": [
    "## Data "
   ]
  },
  {
   "cell_type": "markdown",
   "metadata": {},
   "source": [
    "##### *Describe the data that you will be using to solve the problem or execute your idea. Remember that you will need to use the Foursquare location data to solve the problem or execute your idea. You can absolutely use other datasets in combination with the Foursquare location data. So make sure that you provide adequate explanation and discussion, with examples, of the data that you will be using, even if it is only Foursquare location data.*"
   ]
  },
  {
   "cell_type": "markdown",
   "metadata": {},
   "source": [
    "The dataset we will be using is from NYU's public access spatial data repository (https://geo.nyu.edu/catalog/nyu_2451_34572). This will be used to separate New York into smaller subsets of neighbourhoods and community areas that we wil then run our analysis on.\n",
    "\n",
    "With foursquare API we will gather information on venues and local businesses for each of these areas. Foursquare will also be used to categorize the businesses based on what food they serve. Using geographic location to cluster the resturants we can explore and observe which areas are the most dense in demand for food venues. By passing specific parameters for Vietnamese or similar cuisines we can see the level of competition in these areas as well. \n",
    "\n",
    "Exporting the data collected into a csv will allow us to work with it without foursquare queries. With this we can analyze the cluster of resturants as being either hurtful or helpful competition."
   ]
  },
  {
   "cell_type": "code",
   "execution_count": null,
   "metadata": {},
   "outputs": [],
   "source": []
  }
 ],
 "metadata": {
  "kernelspec": {
   "display_name": "Python 3.6",
   "language": "python",
   "name": "python3"
  },
  "language_info": {
   "codemirror_mode": {
    "name": "ipython",
    "version": 3
   },
   "file_extension": ".py",
   "mimetype": "text/x-python",
   "name": "python",
   "nbconvert_exporter": "python",
   "pygments_lexer": "ipython3",
   "version": "3.6.8"
  }
 },
 "nbformat": 4,
 "nbformat_minor": 1
}
